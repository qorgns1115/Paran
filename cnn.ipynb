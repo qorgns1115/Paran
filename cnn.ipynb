{
 "cells": [
  {
   "cell_type": "code",
   "execution_count": 4,
   "id": "b6ee6261-0764-4d76-8dd3-610fa8dad1b7",
   "metadata": {},
   "outputs": [],
   "source": [
    "from torchvision import datasets, transforms\n",
    "from torch.utils.data import DataLoader, random_split\n",
    "import torch\n",
    "\n",
    "# 데이터 전처리 정의\n",
    "transform = transforms.Compose([\n",
    "    transforms.Resize((224, 224)), # 이미지 크기 조정\n",
    "    transforms.ToTensor(), # 이미지를 텐서로 변환\n",
    "])\n",
    "\n",
    "# ImageFolder를 사용해 전체 데이터셋 로드\n",
    "data_dir = 'dataset/train/nobreak/nobreak'  # 데이터셋 경로\n",
    "full_dataset = datasets.ImageFolder(root=data_dir, transform=transform)\n",
    "\n",
    "# 데이터셋 크기 계산 및 분할\n",
    "train_size = int(0.7 * len(full_dataset))\n",
    "test_size = len(full_dataset) - train_size\n",
    "\n",
    "# random_split으로 데이터셋 분할\n",
    "train_dataset, test_dataset = random_split(full_dataset, [train_size, test_size])\n",
    "\n",
    "# 훈련 및 검증 데이터 로더 생성\n",
    "train_loader = DataLoader(train_dataset, batch_size=32, shuffle=True)\n",
    "test_loader = DataLoader(test_dataset, batch_size=32, shuffle=False)\n",
    "\n",
    "# 데이터 로더를 이용한 데이터 접근 예시\n",
    "for images, labels in train_loader:\n",
    "    # 훈련 데이터셋을 사용한 학습 코드\n",
    "    pass\n",
    "\n",
    "for images, labels in test_loader:\n",
    "    # 검증 데이터셋을 사용한 평가 코드\n",
    "    pass"
   ]
  },
  {
   "cell_type": "code",
   "execution_count": 5,
   "id": "2580ba6a-2eb3-4a1a-96ae-294a5877d21d",
   "metadata": {},
   "outputs": [],
   "source": [
    "import torch.nn as nn\n",
    "import torch.nn.functional as F\n",
    "\n",
    "class DeepCNN(nn.Module):\n",
    "    def __init__(self):\n",
    "        super(DeepCNN, self).__init__()\n",
    "        self.conv1 = nn.Conv2d(3, 32, kernel_size=3, stride=1, padding=1)\n",
    "        self.conv2 = nn.Conv2d(32, 64, kernel_size=3, stride=1, padding=1)\n",
    "        # 추가된 층\n",
    "        self.conv3 = nn.Conv2d(64, 128, kernel_size=3, stride=1, padding=1)\n",
    "        self.conv4 = nn.Conv2d(128, 256, kernel_size=3, stride=1, padding=1)\n",
    "        self.pool = nn.MaxPool2d(kernel_size=2, stride=2, padding=0)\n",
    "        self.fc1 = nn.Linear(256 * 14 * 14, 1024)  # 입력 크기 조정\n",
    "        self.fc2 = nn.Linear(1024, 6)  # 6개의 출력 클래스\n",
    "\n",
    "    def forward(self, x):\n",
    "        x = self.pool(F.relu(self.conv1(x)))\n",
    "        x = self.pool(F.relu(self.conv2(x)))\n",
    "        x = self.pool(F.relu(self.conv3(x)))\n",
    "        x = self.pool(F.relu(self.conv4(x)))\n",
    "        # Flatten 과정\n",
    "        x = x.view(-1, 256 * 14 * 14)  # Flatten에 맞게 변경\n",
    "        x = F.relu(self.fc1(x))\n",
    "        x = self.fc2(x)\n",
    "        return x\n"
   ]
  },
  {
   "cell_type": "code",
   "execution_count": 6,
   "id": "c5bd698b-728b-432c-b6f7-50ded945a68c",
   "metadata": {},
   "outputs": [
    {
     "name": "stdout",
     "output_type": "stream",
     "text": [
      "Epoch 1, Loss: 1.7566605372862383\n",
      "Accuracy after epoch 1: 37.33031674208145%\n",
      "Epoch 2, Loss: 1.3510838674776482\n",
      "Accuracy after epoch 2: 59.502262443438916%\n",
      "Epoch 3, Loss: 1.0119742100889033\n",
      "Accuracy after epoch 3: 64.47963800904978%\n",
      "Epoch 4, Loss: 0.8330868500651736\n",
      "Accuracy after epoch 4: 68.32579185520362%\n",
      "Epoch 5, Loss: 0.6432725443984523\n",
      "Accuracy after epoch 5: 69.45701357466064%\n",
      "Epoch 6, Loss: 0.4541980028152466\n",
      "Accuracy after epoch 6: 71.49321266968326%\n",
      "Epoch 7, Loss: 0.25509176008177525\n",
      "Accuracy after epoch 7: 72.62443438914028%\n",
      "Epoch 8, Loss: 0.16367077223505033\n",
      "Accuracy after epoch 8: 70.58823529411765%\n",
      "Epoch 9, Loss: 0.15116061061394936\n",
      "Accuracy after epoch 9: 70.13574660633485%\n",
      "Epoch 10, Loss: 0.11508158478660113\n",
      "Accuracy after epoch 10: 67.6470588235294%\n"
     ]
    }
   ],
   "source": [
    "device = torch.device(\"cuda:0\" if torch.cuda.is_available() else \"cpu\")\n",
    "\n",
    "model = DeepCNN().to(device)\n",
    "criterion = nn.CrossEntropyLoss()\n",
    "optimizer = torch.optim.Adam(model.parameters(), lr=0.001)\n",
    "\n",
    "# 훈련 루프\n",
    "num_epochs = 10\n",
    "for epoch in range(num_epochs):\n",
    "    model.train()\n",
    "    running_loss = 0.0\n",
    "    for images, labels in train_loader:\n",
    "        images, labels = images.to(device), labels.to(device)\n",
    "        \n",
    "        optimizer.zero_grad()\n",
    "        outputs = model(images)\n",
    "        loss = criterion(outputs, labels)\n",
    "        loss.backward()\n",
    "        optimizer.step()\n",
    "        \n",
    "        running_loss += loss.item()\n",
    "    \n",
    "    print(f\"Epoch {epoch+1}, Loss: {running_loss/len(train_loader)}\")\n",
    "\n",
    "    # 검증\n",
    "    model.eval()\n",
    "    total = 0\n",
    "    correct = 0\n",
    "    with torch.no_grad():\n",
    "        for images, labels in test_loader:\n",
    "            images, labels = images.to(device), labels.to(device)\n",
    "            outputs = model(images)\n",
    "            _, predicted = torch.max(outputs.data, 1)\n",
    "            total += labels.size(0)\n",
    "            correct += (predicted == labels).sum().item()\n",
    "    \n",
    "    print(f\"Accuracy after epoch {epoch + 1}: {100 * correct / total}%\")"
   ]
  },
  {
   "cell_type": "code",
   "execution_count": 7,
   "id": "e03e734b-0e9d-4b1b-8b9c-849fee9598f9",
   "metadata": {},
   "outputs": [
    {
     "name": "stdout",
     "output_type": "stream",
     "text": [
      "Confusion Matrix:\n",
      "[[78  4  0  1  4  8]\n",
      " [ 4 52  0 15  9 20]\n",
      " [ 4  2  5  2  0  1]\n",
      " [ 2  5  0 94  0  1]\n",
      " [ 3  3  4  6 13  4]\n",
      " [13 15  0  6  7 57]]\n",
      "F1-score: 0.6037100410397268\n"
     ]
    },
    {
     "name": "stderr",
     "output_type": "stream",
     "text": [
      "C:\\Users\\AJOU\\AppData\\Local\\Temp\\ipykernel_2220\\2094906823.py:33: UserWarning: set_ticklabels() should only be used with a fixed number of ticks, i.e. after set_ticks() or using a FixedLocator.\n",
      "  ax.set_xticklabels([''] + list(range(6)))\n",
      "C:\\Users\\AJOU\\AppData\\Local\\Temp\\ipykernel_2220\\2094906823.py:34: UserWarning: set_ticklabels() should only be used with a fixed number of ticks, i.e. after set_ticks() or using a FixedLocator.\n",
      "  ax.set_yticklabels([''] + list(range(6)))\n"
     ]
    },
    {
     "data": {
      "image/png": "[encoded data removed]",
      "text/plain": [
       "<Figure size 640x480 with 2 Axes>"
      ]
     },
     "metadata": {},
     "output_type": "display_data"
    }
   ],
   "source": [
    "import numpy as np\n",
    "import matplotlib.pyplot as plt\n",
    "from sklearn.metrics import confusion_matrix, f1_score\n",
    "\n",
    "# 모든 에폭이 끝난 후 테스트 데이터에 대해 실행\n",
    "model.eval()\n",
    "all_labels = []\n",
    "all_predictions = []\n",
    "\n",
    "with torch.no_grad():\n",
    "    for images, labels in test_loader:\n",
    "        images, labels = images.to(device), labels.to(device)\n",
    "        outputs = model(images)\n",
    "        _, predicted = torch.max(outputs.data, 1)\n",
    "        all_labels.extend(labels.cpu().numpy())\n",
    "        all_predictions.extend(predicted.cpu().numpy())\n",
    "\n",
    "# Confusion matrix 계산\n",
    "conf_matrix = confusion_matrix(all_labels, all_predictions)\n",
    "print(\"Confusion Matrix:\")\n",
    "print(conf_matrix)\n",
    "\n",
    "# F1-score 계산, average='macro'는 클래스 불균형을 고려하지 않음\n",
    "f1 = f1_score(all_labels, all_predictions, average='macro')\n",
    "print(f\"F1-score: {f1}\")\n",
    "\n",
    "# Confusion matrix 시각화\n",
    "fig, ax = plt.subplots()\n",
    "cax = ax.matshow(conf_matrix, cmap=plt.cm.Blues)\n",
    "fig.colorbar(cax)\n",
    "ax.set_xlabel('Predicted')\n",
    "ax.set_ylabel('True')\n",
    "ax.set_xticklabels([''] + list(range(6)))\n",
    "ax.set_yticklabels([''] + list(range(6)))\n",
    "plt.title('Confusion Matrix Visualization')\n",
    "plt.show()\n"
   ]
  },
  {
   "cell_type": "code",
   "execution_count": 8,
   "id": "79e2f691-ff66-4b5b-923a-6f4e9df12268",
   "metadata": {},
   "outputs": [],
   "source": [
    "# 모델 저장\n",
    "torch.save(model.state_dict(), 'model_best_cnn_33333.pth')\n",
    "\n",
    "\n",
    "#모델 로드 \n",
    "#model = SimpleCNN()  # 'SimpleCNN'은 당신이 정의한 모델 클래스\n",
    "#model.load_state_dict(torch.load('model_best.pth'))\n",
    "#model.eval()  # 평가 모드로 설정"
   ]
  },
  {
   "cell_type": "code",
   "execution_count": null,
   "id": "9a6f6271-9617-405e-96f0-a496a792c5eb",
   "metadata": {},
   "outputs": [],
   "source": []
  }
 ],
 "metadata": {
  "kernelspec": {
   "display_name": "Python 3 (ipykernel)",
   "language": "python",
   "name": "python3"
  },
  "language_info": {
   "codemirror_mode": {
    "name": "ipython",
    "version": 3
   },
   "file_extension": ".py",
   "mimetype": "text/x-python",
   "name": "python",
   "nbconvert_exporter": "python",
   "pygments_lexer": "ipython3",
   "version": "3.11.7"
  }
 },
 "nbformat": 4,
 "nbformat_minor": 5
}
