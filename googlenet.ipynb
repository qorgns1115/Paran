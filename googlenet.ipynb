{
  "nbformat": 4,
  "nbformat_minor": 0,
  "metadata": {
    "colab": {
      "provenance": []
    },
    "kernelspec": {
      "name": "python3",
      "display_name": "Python 3"
    },
    "language_info": {
      "name": "python"
    }
  },
  "cells": [
    {
      "cell_type": "code",
      "execution_count": null,
      "metadata": {
        "id": "6ILMbfcY6f2Q"
      },
      "outputs": [],
      "source": [
        "from google.colab import drive\n",
        "drive.mount('/content/drive')"
      ]
    },
    {
      "cell_type": "code",
      "source": [
        "from torchvision import datasets, transforms\n",
        "from torch.utils.data import DataLoader, random_split\n",
        "import torch\n",
        "\n",
        "# 데이터 전처리 정의\n",
        "transform = transforms.Compose([\n",
        "    transforms.Resize((224, 224)), # 이미지 크기 조정\n",
        "    transforms.ToTensor(), # 이미지를 텐서로 변환\n",
        "])\n",
        "\n",
        "# ImageFolder를 사용해 전체 데이터셋 로드\n",
        "data_dir = '/content/drive/MyDrive/nobreak/nobreak'  # 데이터셋 경로\n",
        "full_dataset = datasets.ImageFolder(root=data_dir, transform=transform)\n",
        "\n",
        "# 데이터셋 크기 계산 및 분할\n",
        "train_size = int(0.7 * len(full_dataset))\n",
        "test_size = len(full_dataset) - train_size\n",
        "\n",
        "# random_split으로 데이터셋 분할\n",
        "train_dataset, test_dataset = random_split(full_dataset, [train_size, test_size])\n",
        "\n",
        "# 훈련 및 검증 데이터 로더 생성\n",
        "train_loader = DataLoader(train_dataset, batch_size=32, shuffle=True)\n",
        "test_loader = DataLoader(test_dataset, batch_size=32, shuffle=False)\n",
        "\n",
        "# 데이터 로더를 이용한 데이터 접근 예시\n",
        "for images, labels in train_loader:\n",
        "    # 훈련 데이터셋을 사용한 학습 코드\n",
        "    pass\n",
        "\n",
        "for images, labels in test_loader:\n",
        "    pass"
      ],
      "metadata": {
        "id": "TUuS9G2h6usY"
      },
      "execution_count": null,
      "outputs": []
    },
    {
      "cell_type": "code",
      "source": [
        "import torch.nn as nn\n",
        "import torch.optim as optim\n",
        "from torchvision import models\n",
        "from torch.utils.data import DataLoader\n",
        "\n",
        "# 사전 훈련된 GoogleNet 모델 로드\n",
        "model = models.googlenet(pretrained=True)\n",
        "\n",
        "# 모델의 마지막 계층을 현재 데이터셋의 클래스 수에 맞게 조정\n",
        "num_ftrs = model.fc.in_features\n",
        "model.fc = nn.Linear(num_ftrs, 6)  # 6개의 클래스로 수정\n",
        "\n",
        "# DataLoader 설정\n",
        "train_loader = DataLoader(train_dataset, batch_size=32, shuffle=True)\n",
        "test_loader = DataLoader(test_dataset, batch_size=32, shuffle=False)\n"
      ],
      "metadata": {
        "id": "RkFyhKcU6uun"
      },
      "execution_count": null,
      "outputs": []
    },
    {
      "cell_type": "code",
      "source": [
        "# 손실 함수와 옵티마이저\n",
        "criterion = nn.CrossEntropyLoss()\n",
        "optimizer = optim.Adam(model.parameters(), lr=0.0001)\n",
        "\n",
        "\n",
        "# 단순화된 훈련 루프 예제\n",
        "num_epochs = 10\n",
        "for epoch in range(num_epochs):\n",
        "    model.train()  # 훈련 모드로 설정\n",
        "    running_loss = 0.0\n",
        "    for inputs, labels in train_loader:\n",
        "        optimizer.zero_grad()\n",
        "        outputs = model(inputs)\n",
        "        loss = criterion(outputs, labels)\n",
        "        loss.backward()\n",
        "        optimizer.step()\n",
        "\n",
        "        running_loss += loss.item()\n",
        "    print(f'Epoch {epoch+1}, Loss: {running_loss/len(train_loader)}')\n",
        "\n",
        "    model.eval()\n",
        "    total = 0\n",
        "    correct = 0\n",
        "    with torch.no_grad():\n",
        "        for images, labels in test_loader:\n",
        "            outputs = model(images)\n",
        "            _, predicted = torch.max(outputs.data, 1)\n",
        "            total += labels.size(0)\n",
        "            correct += (predicted == labels).sum().item()\n",
        "\n",
        "    print(f\"Accuracy after epoch {epoch + 1}: {100 * correct / total}%\")"
      ],
      "metadata": {
        "id": "C0ZLizSf6uxD"
      },
      "execution_count": null,
      "outputs": []
    },
    {
      "cell_type": "code",
      "source": [
        "import numpy as np\n",
        "import matplotlib.pyplot as plt\n",
        "from sklearn.metrics import confusion_matrix, f1_score, precision_score, recall_score\n",
        "\n",
        "# 모든 에폭이 끝난 후 테스트 데이터에 대해 실행\n",
        "model.eval()\n",
        "all_labels = []\n",
        "all_predictions = []\n",
        "\n",
        "with torch.no_grad():\n",
        "    for images, labels in test_loader:\n",
        "        outputs = model(images)\n",
        "        _, predicted = torch.max(outputs.data, 1)\n",
        "        all_labels.extend(labels.cpu().numpy())\n",
        "        all_predictions.extend(predicted.cpu().numpy())\n",
        "\n",
        "# Confusion matrix 계산\n",
        "conf_matrix = confusion_matrix(all_labels, all_predictions)\n",
        "print(\"Confusion Matrix:\")\n",
        "print(conf_matrix)\n",
        "\n",
        "# F1-score 계산, average='macro'는 클래스 불균형을 고려하지 않음\n",
        "precision = precision_score(all_labels, all_predictions, average=None)\n",
        "recall = recall_score(all_labels, all_predictions, average=None)\n",
        "f1 = f1_score(all_labels, all_predictions, average='macro')\n",
        "print(f\"Precision per class: {precision}\")\n",
        "print(f\"Recall per class: {recall}\")\n",
        "print(f\"F1-score: {f1}\")\n",
        "max_precision = max(precision)\n",
        "max_recall = max(recall)\n",
        "print(f\"Maximum Precision: {max_precision}\")\n",
        "print(f\"Maximum Recall: {max_recall}\")\n",
        "\n",
        "# Confusion matrix 시각화\n",
        "fig, ax = plt.subplots()\n",
        "cax = ax.matshow(conf_matrix, cmap=plt.cm.Blues)\n",
        "fig.colorbar(cax)\n",
        "ax.set_xlabel('Predicted')\n",
        "ax.set_ylabel('True')\n",
        "ax.set_xticklabels([''] + list(range(6)))\n",
        "ax.set_yticklabels([''] + list(range(6)))\n",
        "plt.title('Confusion Matrix Visualization')\n",
        "plt.show()\n"
      ],
      "metadata": {
        "id": "EnUSbltr6uzg"
      },
      "execution_count": null,
      "outputs": []
    },
    {
      "cell_type": "code",
      "source": [
        "# 모델 저장\n",
        "torch.save(model.state_dict(), 'model_best_googlenet.pth')"
      ],
      "metadata": {
        "id": "-JoqNkqT6u2-"
      },
      "execution_count": null,
      "outputs": []
    }
  ]
}