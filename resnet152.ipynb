{
 "cells": [
  {
   "cell_type": "code",
   "execution_count": 1,
   "id": "1378a037-3a94-46f4-be99-c29d395e12ac",
   "metadata": {},
   "outputs": [],
   "source": [
    "from torchvision import datasets, transforms\n",
    "from torch.utils.data import DataLoader, random_split\n",
    "import torch\n",
    "\n",
    "# 데이터 전처리 정의\n",
    "transform = transforms.Compose([\n",
    "    transforms.Resize((224, 224)), # 이미지 크기 조정\n",
    "    transforms.ToTensor(), # 이미지를 텐서로 변환\n",
    "])\n",
    "\n",
    "# ImageFolder를 사용해 전체 데이터셋 로드\n",
    "data_dir = 'dataset/train/nobreak/nobreak'  # 데이터셋 경로\n",
    "full_dataset = datasets.ImageFolder(root=data_dir, transform=transform)\n",
    "\n",
    "# 데이터셋 크기 계산 및 분할\n",
    "train_size = int(0.7 * len(full_dataset))\n",
    "test_size = len(full_dataset) - train_size\n",
    "\n",
    "# random_split으로 데이터셋 분할\n",
    "train_dataset, test_dataset = random_split(full_dataset, [train_size, test_size])\n",
    "\n",
    "# 훈련 및 검증 데이터 로더 생성\n",
    "train_loader = DataLoader(train_dataset, batch_size=32, shuffle=True)\n",
    "test_loader = DataLoader(test_dataset, batch_size=32, shuffle=False)\n",
    "\n",
    "# 데이터 로더를 이용한 데이터 접근 예시\n",
    "for images, labels in train_loader:\n",
    "    # 훈련 데이터셋을 사용한 학습 코드\n",
    "    pass\n",
    "\n",
    "for images, labels in test_loader:\n",
    "    pass"
   ]
  },
  {
   "cell_type": "code",
   "execution_count": 3,
   "id": "adcd434e-42f7-4dd7-a3a5-1cfe5e536864",
   "metadata": {},
   "outputs": [
    {
     "name": "stderr",
     "output_type": "stream",
     "text": [
      "C:\\Users\\AJOU\\anaconda3\\Lib\\site-packages\\torchvision\\models\\_utils.py:208: UserWarning: The parameter 'pretrained' is deprecated since 0.13 and may be removed in the future, please use 'weights' instead.\n",
      "  warnings.warn(\n",
      "C:\\Users\\AJOU\\anaconda3\\Lib\\site-packages\\torchvision\\models\\_utils.py:223: UserWarning: Arguments other than a weight enum or `None` for 'weights' are deprecated since 0.13 and may be removed in the future. The current behavior is equivalent to passing `weights=ResNet152_Weights.IMAGENET1K_V1`. You can also use `weights=ResNet152_Weights.DEFAULT` to get the most up-to-date weights.\n",
      "  warnings.warn(msg)\n",
      "Downloading: \"https://download.pytorch.org/models/resnet152-394f9c45.pth\" to C:\\Users\\AJOU/.cache\\torch\\hub\\checkpoints\\resnet152-394f9c45.pth\n",
      "100%|███████████████████████████████████████████████████████████████████████████████| 230M/230M [00:39<00:00, 6.08MB/s]\n"
     ]
    }
   ],
   "source": [
    "import torch.nn as nn\n",
    "import torch.optim as optim\n",
    "from torchvision import models\n",
    "\n",
    "# 사전 훈련된 ResNet 모델 로드\n",
    "model = models.resnet152(pretrained=True)\n",
    "\n",
    "# 모델의 마지막 계층을 현재 데이터셋의 클래스 수에 맞게 조정\n",
    "num_ftrs = model.fc.in_features\n",
    "model.fc = nn.Linear(num_ftrs, 6) # 6개의 클래스, 수정 필요함 \n",
    "\n",
    "# 손실 함수와 옵티마이저\n",
    "criterion = nn.CrossEntropyLoss()\n",
    "optimizer = optim.Adam(model.parameters(), lr=0.001)"
   ]
  },
  {
   "cell_type": "code",
   "execution_count": 4,
   "id": "f57d91d1-bf5c-48ed-b52d-0908d3eace60",
   "metadata": {},
   "outputs": [
    {
     "name": "stdout",
     "output_type": "stream",
     "text": [
      "Epoch 1, Loss: 1.2215594161640515\n",
      "Epoch 2, Loss: 0.9732218402804751\n",
      "Epoch 3, Loss: 0.8379425424518008\n",
      "Epoch 4, Loss: 0.7121473875912753\n",
      "Epoch 5, Loss: 0.712455277190064\n",
      "Epoch 6, Loss: 0.6785627404848734\n",
      "Epoch 7, Loss: 0.5618536111080286\n",
      "Epoch 8, Loss: 0.46501322316400934\n",
      "Epoch 9, Loss: 0.33285787295211444\n",
      "Epoch 10, Loss: 0.32578700080965506\n"
     ]
    }
   ],
   "source": [
    "# 단순화된 훈련 루프 예제\n",
    "num_epochs = 10\n",
    "for epoch in range(num_epochs):\n",
    "    model.train()  # 훈련 모드로 설정\n",
    "    running_loss = 0.0\n",
    "    for inputs, labels in train_loader:\n",
    "        optimizer.zero_grad()\n",
    "        outputs = model(inputs)\n",
    "        loss = criterion(outputs, labels)\n",
    "        loss.backward()\n",
    "        optimizer.step()\n",
    "        \n",
    "        running_loss += loss.item()\n",
    "    print(f'Epoch {epoch+1}, Loss: {running_loss/len(train_loader)}')"
   ]
  },
  {
   "cell_type": "code",
   "execution_count": 5,
   "id": "2cbb2dea-f243-499a-bb44-05b7a9a9089f",
   "metadata": {},
   "outputs": [
    {
     "name": "stdout",
     "output_type": "stream",
     "text": [
      "Accuracy of the network on the test images: 76.92307692307692 %\n"
     ]
    }
   ],
   "source": [
    "#model.eval()  # 모델을 평가 모드로 설정\n",
    "correct = 0\n",
    "total = 0\n",
    "\n",
    "with torch.no_grad():  # 기울기 계산을 비활성화하여 메모리 사용량 줄이고 계산 속도 향상\n",
    "    for images, labels in test_loader:  # test_loader는 테스트 데이터셋의 DataLoader\n",
    "        outputs = model(images)\n",
    "        _, predicted = torch.max(outputs.data, 1)\n",
    "        total += labels.size(0)\n",
    "        correct += (predicted == labels).sum().item()\n",
    "\n",
    "print(f'Accuracy of the network on the test images: {100 * correct / total} %')"
   ]
  },
  {
   "cell_type": "code",
   "execution_count": 6,
   "id": "9213efdc-6131-428f-8c51-e874e25cd647",
   "metadata": {},
   "outputs": [],
   "source": [
    "# 모델 저장\n",
    "torch.save(model.state_dict(), 'model_best_resnet152.pth')"
   ]
  },
  {
   "cell_type": "code",
   "execution_count": null,
   "id": "c07031db-4800-484f-9bd3-ef5632894edc",
   "metadata": {},
   "outputs": [],
   "source": []
  }
 ],
 "metadata": {
  "kernelspec": {
   "display_name": "Python 3 (ipykernel)",
   "language": "python",
   "name": "python3"
  },
  "language_info": {
   "codemirror_mode": {
    "name": "ipython",
    "version": 3
   },
   "file_extension": ".py",
   "mimetype": "text/x-python",
   "name": "python",
   "nbconvert_exporter": "python",
   "pygments_lexer": "ipython3",
   "version": "3.11.7"
  }
 },
 "nbformat": 4,
 "nbformat_minor": 5
}
